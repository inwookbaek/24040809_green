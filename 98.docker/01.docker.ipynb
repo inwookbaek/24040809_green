{
 "cells": [
  {
   "cell_type": "markdown",
   "metadata": {},
   "source": [
    "# ngrok\n",
    "\n",
    "## 1. ngrok download & install\n",
    "## 2. sesseion expire\n",
    "   - ngrok는 session유지시간이 8시간, 이후 ngrok를 재실행해야 하며 url이 변경된다.\n",
    "   - session을 8시간 이상 유지가 필요한 경우 회원가입후 auth token을 복사한 후 ngrok 실행\n",
    "## 3. ngrok 재실행\n",
    "   \n",
    "   - ngrok config add-authtoken 2bn5ZmhInWPmnfkozRyl0YHvCKY_6mt3o4naqpMeuSJRXRLbe\n",
    "   - ngrok.yml\n",
    "   ```yml\n",
    "   agent:\n",
    "\t    authtoken: 2bn5ZmhInWPmnfkozRyl0YHvCKY_6mt3o4naqpMeuSJRXRLbe\n",
    "   ```\n",
    "   - ngrok http 8000\n"
   ]
  },
  {
   "cell_type": "markdown",
   "metadata": {},
   "source": [
    "# Docker Command"
   ]
  },
  {
   "cell_type": "markdown",
   "metadata": {},
   "source": [
    "# 1. Docker란?\n",
    "\n",
    "- `데이터 또는 프로그램을 격리시키는 기능`을 제공하는 소프트웨어"
   ]
  }
 ],
 "metadata": {
  "language_info": {
   "name": "python"
  }
 },
 "nbformat": 4,
 "nbformat_minor": 2
}
